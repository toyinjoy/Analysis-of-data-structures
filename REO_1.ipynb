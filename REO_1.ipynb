{
  "nbformat": 4,
  "nbformat_minor": 0,
  "metadata": {
    "colab": {
      "name": "REO-1",
      "provenance": [],
      "collapsed_sections": [],
      "authorship_tag": "ABX9TyMyO/2dgOXai8xY8h3Bzg4M",
      "include_colab_link": true
    },
    "kernelspec": {
      "name": "python3",
      "display_name": "Python 3"
    },
    "language_info": {
      "name": "python"
    }
  },
  "cells": [
    {
      "cell_type": "markdown",
      "metadata": {
        "id": "view-in-github",
        "colab_type": "text"
      },
      "source": [
        "<a href=\"https://colab.research.google.com/github/toyinjoy/Analysis-of-data-structures/blob/main/REO_1.ipynb\" target=\"_parent\"><img src=\"https://colab.research.google.com/assets/colab-badge.svg\" alt=\"Open In Colab\"/></a>"
      ]
    },
    {
      "cell_type": "code",
      "metadata": {
        "id": "biI0swpBdf5b"
      },
      "source": [
        "import networkx as nx\n",
        "import matplotlib.pyplot as plt"
      ],
      "execution_count": 1,
      "outputs": []
    },
    {
      "cell_type": "code",
      "metadata": {
        "colab": {
          "base_uri": "https://localhost:8080/",
          "height": 248
        },
        "id": "bT8Rl_vLduPF",
        "outputId": "694a3363-a573-4e8b-f14d-4f3612da8a91"
      },
      "source": [
        "G = nx.DiGraph()\n",
        "G.add_edges_from([('A','B'),('A','C'),('C','B'),('A','D'),('B','A')])\n",
        "REO1 = nx.spring_layout(G)\n",
        "nx.draw_networkx_nodes(G, REO1,node_size = 500)\n",
        "nx.draw_networkx_edges(G,REO1,edgelist=G.edges(), edge_color = '#000000')\n",
        "nx.draw_networkx_labels(G,REO1)\n",
        "plt.show()"
      ],
      "execution_count": 4,
      "outputs": [
        {
          "output_type": "display_data",
          "data": {
            "image/png": "[encoded data removed]",
            "text/plain": [
              "<Figure size 432x288 with 1 Axes>"
            ]
          },
          "metadata": {
            "tags": []
          }
        }
      ]
    },
    {
      "cell_type": "code",
      "metadata": {
        "id": "FKmWZNUxdvW0"
      },
      "source": [
        ""
      ],
      "execution_count": null,
      "outputs": []
    },
    {
      "cell_type": "markdown",
      "metadata": {
        "id": "TA_t9lt4gULi"
      },
      "source": [
        ""
      ]
    }
  ]
}
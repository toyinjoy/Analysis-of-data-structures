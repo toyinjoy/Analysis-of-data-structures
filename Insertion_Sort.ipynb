{
  "nbformat": 4,
  "nbformat_minor": 0,
  "metadata": {
    "colab": {
      "name": "Insertion_Sort",
      "provenance": [],
      "collapsed_sections": [],
      "authorship_tag": "ABX9TyMYWXjY2nTW3EDr05ENdpP+",
      "include_colab_link": true
    },
    "kernelspec": {
      "name": "python3",
      "display_name": "Python 3"
    },
    "language_info": {
      "name": "python"
    }
  },
  "cells": [
    {
      "cell_type": "markdown",
      "metadata": {
        "id": "view-in-github",
        "colab_type": "text"
      },
      "source": [
        "<a href=\"https://colab.research.google.com/github/toyinjoy/Analysis-of-data-structures/blob/main/Insertion_Sort.ipynb\" target=\"_parent\"><img src=\"https://colab.research.google.com/assets/colab-badge.svg\" alt=\"Open In Colab\"/></a>"
      ]
    },
    {
      "cell_type": "code",
      "metadata": {
        "id": "hDa9FJ1DWlwb"
      },
      "source": [
        "L = [7,14,34,67,2,6,3,1]"
      ],
      "execution_count": 5,
      "outputs": []
    },
    {
      "cell_type": "code",
      "metadata": {
        "colab": {
          "base_uri": "https://localhost:8080/"
        },
        "id": "RLjDmbT5W0k_",
        "outputId": "0511a3c4-7665-448f-9195-e398f96ad61e"
      },
      "source": [
        "def insertion_sort(L):\n",
        "  for outer_index in range(1,len(L)):\n",
        "   \n",
        "    current_item = L[outer_index]\n",
        "    inner_index = outer_index\n",
        "    \n",
        "    while inner_index > 0 and L[inner_index -1] > current_item:\n",
        "      L[inner_index] = L[inner_index - 1]\n",
        "      inner_index -= 1\n",
        "      L[inner_index] = current_item\n",
        "      \n",
        "insertion_sort(L)\n",
        "print(L)"
      ],
      "execution_count": 6,
      "outputs": [
        {
          "output_type": "stream",
          "text": [
            "[1, 2, 3, 6, 7, 14, 34, 67]\n"
          ],
          "name": "stdout"
        }
      ]
    },
    {
      "cell_type": "code",
      "metadata": {
        "id": "MSfnipeZYOnH"
      },
      "source": [
        "U = [15,4,6,2,9,0]"
      ],
      "execution_count": 7,
      "outputs": []
    },
    {
      "cell_type": "code",
      "metadata": {
        "colab": {
          "base_uri": "https://localhost:8080/"
        },
        "id": "Ih6XEo9QcNlj",
        "outputId": "1ebc6bc8-f526-441d-bf92-bca52093fe73"
      },
      "source": [
        "def insertion_sort(U):\n",
        "  for outer_index in range(1,len(U)):\n",
        "   \n",
        "    current_item = U[outer_index]\n",
        "    inner_index = outer_index\n",
        "    \n",
        "    while inner_index > 0 and U[inner_index -1] > current_item:\n",
        "      U[inner_index] = U[inner_index - 1]\n",
        "      inner_index -= 1\n",
        "      U[inner_index] = current_item\n",
        "      print(U)\n",
        "      \n",
        "insertion_sort(U)\n",
        "print(U)"
      ],
      "execution_count": 8,
      "outputs": [
        {
          "output_type": "stream",
          "text": [
            "[4, 15, 6, 2, 9, 0]\n",
            "[4, 6, 15, 2, 9, 0]\n",
            "[4, 6, 2, 15, 9, 0]\n",
            "[4, 2, 6, 15, 9, 0]\n",
            "[2, 4, 6, 15, 9, 0]\n",
            "[2, 4, 6, 9, 15, 0]\n",
            "[2, 4, 6, 9, 0, 15]\n",
            "[2, 4, 6, 0, 9, 15]\n",
            "[2, 4, 0, 6, 9, 15]\n",
            "[2, 0, 4, 6, 9, 15]\n",
            "[0, 2, 4, 6, 9, 15]\n",
            "[0, 2, 4, 6, 9, 15]\n"
          ],
          "name": "stdout"
        }
      ]
    },
    {
      "cell_type": "code",
      "metadata": {
        "id": "BP1BJq_ochyd"
      },
      "source": [
        ""
      ],
      "execution_count": null,
      "outputs": []
    }
  ]
}
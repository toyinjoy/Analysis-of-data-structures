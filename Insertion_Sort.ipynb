{
  "nbformat": 4,
  "nbformat_minor": 0,
  "metadata": {
    "colab": {
      "name": "Insertion_Sort",
      "provenance": [],
      "authorship_tag": "ABX9TyOJvZj4Dd4mMsETp1Hx+zvt",
      "include_colab_link": true
    },
    "kernelspec": {
      "name": "python3",
      "display_name": "Python 3"
    },
    "language_info": {
      "name": "python"
    }
  },
  "cells": [
    {
      "cell_type": "markdown",
      "metadata": {
        "id": "view-in-github",
        "colab_type": "text"
      },
      "source": [
        "<a href=\"https://colab.research.google.com/github/toyinjoy/Analysis-of-data-structures/blob/main/Insertion_Sort.ipynb\" target=\"_parent\"><img src=\"https://colab.research.google.com/assets/colab-badge.svg\" alt=\"Open In Colab\"/></a>"
      ]
    },
    {
      "cell_type": "code",
      "metadata": {
        "id": "hDa9FJ1DWlwb"
      },
      "source": [
        "L = [7,14,34,67,2,6,3,1]"
      ],
      "execution_count": 5,
      "outputs": []
    },
    {
      "cell_type": "code",
      "metadata": {
        "colab": {
          "base_uri": "https://localhost:8080/"
        },
        "id": "RLjDmbT5W0k_",
        "outputId": "0511a3c4-7665-448f-9195-e398f96ad61e"
      },
      "source": [
        "def insertion_sort(L):\n",
        "  for outer_index in range(1,len(L)):\n",
        "   \n",
        "    current_item = L[outer_index]\n",
        "    inner_index = outer_index\n",
        "    \n",
        "    while inner_index > 0 and L[inner_index -1] > current_item:\n",
        "      L[inner_index] = L[inner_index - 1]\n",
        "      inner_index -= 1\n",
        "      L[inner_index] = current_item\n",
        "\n",
        "insertion_sort(L)\n",
        "print(L)"
      ],
      "execution_count": 6,
      "outputs": [
        {
          "output_type": "stream",
          "text": [
            "[1, 2, 3, 6, 7, 14, 34, 67]\n"
          ],
          "name": "stdout"
        }
      ]
    },
    {
      "cell_type": "code",
      "metadata": {
        "id": "MSfnipeZYOnH"
      },
      "source": [
        ""
      ],
      "execution_count": null,
      "outputs": []
    }
  ]
}